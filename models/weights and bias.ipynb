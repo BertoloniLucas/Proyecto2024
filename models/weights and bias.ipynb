{
 "cells": [
  {
   "cell_type": "code",
   "execution_count": 1,
   "metadata": {},
   "outputs": [],
   "source": [
    "# import wandb\n",
    "# import pandas as pd\n",
    "# import matplotlib.pyplot as plt\n",
    "\n",
    "# # Inicializar la API de Weights & Biases\n",
    "# api = wandb.Api()\n",
    "\n",
    "# # Especificar el proyecto y las métricas\n",
    "# project = \"Comparacion de modelos 1\"  # Reemplaza con el nombre de tu proyecto\n",
    "# entity = \"Gabi\"    # Reemplaza con tu nombre de usuario en Weights & Biases\n",
    "# metrics = [\"train_accuracy\", \"val_accuracy\", \"test_accuracy\", \"error\"]\n",
    "\n",
    "# # Obtener todos los runs del proyecto\n",
    "# runs = api.runs(f\"{entity}/{project}\")\n",
    "\n",
    "# # Crear una lista para almacenar los datos de cada run\n",
    "# data = []\n",
    "# for run in runs:\n",
    "#     metrics_data = run.summary\n",
    "#     hyperparams = run.config  # Obtener los hiperparámetros\n",
    "#     data.append([metrics_data[metric] for metric in metrics] + list(hyperparams.values()))\n",
    "\n",
    "# # Crear un DataFrame de pandas\n",
    "# columns = metrics + list(hyperparams.keys())\n",
    "# df = pd.DataFrame(data, columns=columns)\n",
    "\n",
    "# # Crear un gráfico de barras para cada métrica\n",
    "# for metric in metrics:\n",
    "#     plt.figure(figsize=(12, 6))\n",
    "#     df.plot(kind='bar', x='Modelo', y=metric)\n",
    "#     plt.title(f'Comparación de {metric} para los Modelos')\n",
    "#     plt.xlabel('Modelo')\n",
    "#     plt.ylabel(metric)\n",
    "#     plt.xticks(rotation=45)\n",
    "#     plt.show()"
   ]
  }
 ],
 "metadata": {
  "kernelspec": {
   "display_name": "Python 3",
   "language": "python",
   "name": "python3"
  },
  "language_info": {
   "codemirror_mode": {
    "name": "ipython",
    "version": 3
   },
   "file_extension": ".py",
   "mimetype": "text/x-python",
   "name": "python",
   "nbconvert_exporter": "python",
   "pygments_lexer": "ipython3",
   "version": "3.12.4"
  }
 },
 "nbformat": 4,
 "nbformat_minor": 2
}
