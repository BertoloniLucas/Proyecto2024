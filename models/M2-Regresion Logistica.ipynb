{
 "cells": [
  {
   "cell_type": "code",
   "execution_count": null,
   "metadata": {},
   "outputs": [],
   "source": [
    "import pandas as pd\n",
    "import numpy as np\n",
    "from sklearn.model_selection import train_test_split\n",
    "from sklearn.preprocessing import StandardScaler\n",
    "from sklearn.linear_model import LogisticRegression\n",
    "from sklearn.metrics import accuracy_score, confusion_matrix, roc_auc_score, roc_curve\n",
    "import matplotlib.pyplot as plt"
   ]
  },
  {
   "cell_type": "code",
   "execution_count": null,
   "metadata": {},
   "outputs": [],
   "source": [
    "data2 = pd.read_csv('./data.csv')\n",
    "data2"
   ]
  },
  {
   "cell_type": "code",
   "execution_count": null,
   "metadata": {},
   "outputs": [],
   "source": [
    "data2[data2.columns] = data2[data2.columns].astype('Int64')\n",
    "\n",
    "data2 = data2.drop('Final_EDSS', axis=1)\n",
    "data2 = data2.drop('Unnamed: 0', axis=1)\n",
    "data2 = data2.drop('Initial_EDSS', axis=1)\n",
    "\n",
    "data2['group'] = data2['group'].replace(2, 0)\n",
    "data2"
   ]
  },
  {
   "cell_type": "code",
   "execution_count": null,
   "metadata": {},
   "outputs": [],
   "source": [
    "data2[\"group\"  ].value_counts()"
   ]
  },
  {
   "cell_type": "code",
   "execution_count": null,
   "metadata": {},
   "outputs": [],
   "source": [
    "# Verificando si hay valores nulos por columna\n",
    "print(data2.isnull().sum())"
   ]
  },
  {
   "cell_type": "code",
   "execution_count": null,
   "metadata": {},
   "outputs": [],
   "source": [
    "from sklearn.impute import SimpleImputer\n",
    "# Crear un imputador para las columnas con valores faltantes\n",
    "imputer = SimpleImputer(strategy='mean')\n",
    "\n",
    "# Seleccionar las columnas con valores faltantes\n",
    "columns_with_nan = ['Schooling', 'Initial_Symptom']\n",
    "\n",
    "# Imputar los valores faltantes en las columnas específicas\n",
    "data2[columns_with_nan] = imputer.fit_transform(data2[columns_with_nan])\n",
    "\n",
    "# Verificar si aún hay valores nulos en el DataFrame\n",
    "if data2.isnull().values.any():\n",
    "    # Imputar cualquier otro valor faltante en el DataFrame completo\n",
    "    data2 = pd.DataFrame(imputer.fit_transform(data2), columns=data2.columns)\n",
    "\n",
    "\n",
    "X = data2.drop('group', axis=1)\n",
    "y = data2['group']\n",
    "\n",
    "# Dividir los datos en conjuntos de entrenamiento, validación y prueba\n",
    "X_train, X_temp, y_train, y_temp = train_test_split(X, y, test_size=0.4, random_state=42)\n",
    "X_val, X_test, y_val, y_test = train_test_split(X_temp, y_temp, test_size=0.5, random_state=42)"
   ]
  },
  {
   "cell_type": "code",
   "execution_count": null,
   "metadata": {},
   "outputs": [],
   "source": [
    "model = LogisticRegression()\n",
    "model.fit(X_train, y_train)"
   ]
  },
  {
   "cell_type": "code",
   "execution_count": null,
   "metadata": {},
   "outputs": [],
   "source": [
    "# Matriz de confusión\n",
    "conf_matrix = confusion_matrix(y_val, y_pred_val)\n",
    "print(\"Confusion Matrix:\\n\", conf_matrix)"
   ]
  },
  {
   "cell_type": "code",
   "execution_count": null,
   "metadata": {},
   "outputs": [],
   "source": [
    "# Calcular AUC-ROC\n",
    "y_prob_val = model.predict_proba(X_val)[:, 1]\n",
    "auc_roc = roc_auc_score(y_val, y_prob_val)\n",
    "print(\"AUC-ROC:\", auc_roc)"
   ]
  },
  {
   "cell_type": "code",
   "execution_count": null,
   "metadata": {},
   "outputs": [],
   "source": [
    "fpr, tpr, thresholds = roc_curve(y_val, y_prob_val)\n",
    "plt.plot(fpr, tpr,)\n",
    "plt.plot([0, 1], [0, 1], 'k--')\n",
    "plt.title('ROC Curve')\n",
    "plt.plot(fpr, tpr, color='darkorange', lw=2, label='Curva ROC (area = %0.2f)' % auc_roc)\n",
    "plt.show()"
   ]
  },
  {
   "cell_type": "code",
   "execution_count": null,
   "metadata": {},
   "outputs": [],
   "source": [
    "from sklearn.metrics import mean_squared_error\n",
    "\n",
    "#entrenamiento\n",
    "y_train_pred = model.predict(X_train)\n",
    "train_accuracy = accuracy_score(y_train, y_train_pred)\n",
    "\n",
    "\n",
    "#validacion\n",
    "y_val_pred = model.predict(X_val)\n",
    "val_accuracy = accuracy_score(y_val, y_val_pred)\n",
    "\n",
    "# prueba\n",
    "y_test_pred = model.predict(X_test)\n",
    "test_accuracy = accuracy_score(y_test, y_test_pred)\n",
    "\n",
    "\n",
    "\n",
    "print(f'Precisión en el conjunto de entrenamiento: {train_accuracy}')\n",
    "print(f'Precisión en el conjunto de validación: {val_accuracy}')\n",
    "print(f'Precisión en el conjunto de prueba: {test_accuracy}')"
   ]
  },
  {
   "cell_type": "code",
   "execution_count": null,
   "metadata": {},
   "outputs": [],
   "source": [
    "from sklearn.feature_selection import SequentialFeatureSelector\n",
    "from sklearn.metrics import classification_report\n",
    "\n",
    "\n",
    "# Crear un selector secuencial\n",
    "sfs = SequentialFeatureSelector(model, n_features_to_select=5, direction='forward', cv=5)\n",
    "\n",
    "# Ajustar el selector a los datos de entrenamiento\n",
    "sfs.fit(X_train, y_train)\n",
    "\n",
    "# Obtener las características seleccionadas\n",
    "selected_features = X_train.columns[sfs.get_support()]\n",
    "\n",
    "# Crear un nuevo DataFrame con las características seleccionadas\n",
    "X_train_selected = X_train[selected_features]\n",
    "X_val_selected = X_val[selected_features]\n",
    "\n",
    "\n",
    "\n",
    "# Evaluar el modelo en el conjunto de prueba\n",
    "y_predd = model.predict(X_test)\n",
    "\n",
    "# Calcular métricas\n",
    "accuracy = accuracy_score(y_test, y_predd)\n",
    "print(\"Accuracy:\", accuracy)\n",
    "print(classification_report(y_test, y_predd))\n",
    "print(\"AUC-ROC:\", roc_auc_score(y_test, y_predd))"
   ]
  },
  {
   "cell_type": "code",
   "execution_count": null,
   "metadata": {},
   "outputs": [],
   "source": [
    "# Guardar las características seleccionadas\n",
    "selected_features = X_train.columns[sfs.get_support()]\n",
    "\n",
    "# Entrenar el modelo con las características seleccionadas en el conjunto de entrenamiento completo\n",
    "model.fit(X_train[selected_features], y_train)\n",
    "\n",
    "# Evaluar el modelo en el conjunto de validación y prueba\n",
    "y_val_pred_selected = model.predict(X_val[selected_features])\n",
    "y_test_pred_selected = model.predict(X_test[selected_features])\n",
    "\n",
    "# Calcular y mostrar métricas para validación y prueba\n",
    "print(\"Validación con características seleccionadas:\")\n",
    "print(classification_report(y_val, y_val_pred_selected))\n",
    "print(\"AUC-ROC:\", roc_auc_score(y_val, model.predict_proba(X_val[selected_features])[:, 1]))\n",
    "\n",
    "print(\"Prueba con características seleccionadas:\")\n",
    "print(classification_report(y_test, y_test_pred_selected))\n",
    "print(\"AUC-ROC:\", roc_auc_score(y_test, model.predict_proba(X_test[selected_features])[:, 1]))"
   ]
  },
  {
   "cell_type": "code",
   "execution_count": null,
   "metadata": {},
   "outputs": [],
   "source": [
    "# Modelo con regularización L1\n",
    "model_l1 = LogisticRegression(penalty='l1', solver='liblinear')\n",
    "model_l1.fit(X_train, y_train)\n",
    "\n",
    "# Predicciones y evaluación\n",
    "y_pred_l1 = model_l1.predict(X_test)\n",
    "print(\"Resultados con regularización L1:\")\n",
    "print(classification_report(y_test, y_pred_l1))\n",
    "print(\"AUC-ROC:\", roc_auc_score(y_test, model_l1.predict_proba(X_test)[:, 1]))"
   ]
  },
  {
   "cell_type": "code",
   "execution_count": null,
   "metadata": {},
   "outputs": [],
   "source": [
    "# Modelo con regularización L2  --- ESTE ES MEJOR\n",
    "model_l2 = LogisticRegression(penalty='l2')\n",
    "model_l2.fit(X_train, y_train)\n",
    "\n",
    "y_pred_l2 = model_l2.predict(X_test)\n",
    "print(\"Resultados con regularización L2:\")\n",
    "print(classification_report(y_test, y_pred_l2))\n",
    "print(\"AUC-ROC:\", roc_auc_score(y_test, model_l2.predict_proba(X_test)[:, 1]))"
   ]
  },
  {
   "cell_type": "code",
   "execution_count": null,
   "metadata": {},
   "outputs": [],
   "source": [
    "import itertools\n",
    "\n",
    "def evaluate_model(X, y):\n",
    "    # Divide los datos en entrenamiento y prueba\n",
    "    X_train, X_test, y_train, y_test = train_test_split(X, y, test_size=0.2, random_state=42)\n",
    "\n",
    "    # Entrena el modelo\n",
    "    model = LogisticRegression()\n",
    "    model.fit(X_train, y_train)\n",
    "\n",
    "    # Evalúa el modelo\n",
    "    y_pred = model.predict(X_test)\n",
    "    accuracy = accuracy_score(y_test, y_pred)\n",
    "    return accuracy\n",
    "\n",
    "# Columnas que siempre se eliminan\n",
    "columns_to_remove = ['Final_EDSS', 'Unnamed: 0', 'Initial_EDSS', 'group']\n",
    "\n",
    "# Obtener las columnas restantes (características)\n",
    "features = [col for col in data2.columns if col not in columns_to_remove]\n",
    "\n",
    "# Generar todas las posibles combinaciones de características, iniciando con todas las características y eliminando una por una\n",
    "all_combinations = []\n",
    "for i in range(len(features)):\n",
    "    combinations = itertools.combinations(features, len(features) - i)\n",
    "    all_combinations.extend(combinations)\n",
    "\n",
    "best_accuracy = 0\n",
    "best_combination = None\n",
    "\n",
    "for combo in all_combinations:\n",
    "    # Crear un nuevo DataFrame con las columnas seleccionadas\n",
    "    X_subset = data2[list(combo)]\n",
    "    y = data2['group']  # Asegurarse de seleccionar siempre la columna 'group' como target\n",
    "\n",
    "    # Evalúa el modelo\n",
    "    accuracy = evaluate_model(X_subset, y)\n",
    "\n",
    "    if accuracy > best_accuracy:\n",
    "        best_accuracy = accuracy\n",
    "        best_combination = combo\n",
    "\n",
    "print(\"Mejor combinación de columnas:\", best_combination)\n",
    "print(\"Mejor precisión:\", best_accuracy)"
   ]
  },
  {
   "cell_type": "code",
   "execution_count": null,
   "metadata": {},
   "outputs": [],
   "source": []
  },
  {
   "cell_type": "code",
   "execution_count": null,
   "metadata": {},
   "outputs": [],
   "source": []
  },
  {
   "cell_type": "code",
   "execution_count": null,
   "metadata": {},
   "outputs": [],
   "source": []
  },
  {
   "cell_type": "code",
   "execution_count": null,
   "metadata": {},
   "outputs": [],
   "source": []
  }
 ],
 "metadata": {
  "kernelspec": {
   "display_name": "Python 3",
   "language": "python",
   "name": "python3"
  },
  "language_info": {
   "codemirror_mode": {
    "name": "ipython",
    "version": 3
   },
   "file_extension": ".py",
   "mimetype": "text/x-python",
   "name": "python",
   "nbconvert_exporter": "python",
   "pygments_lexer": "ipython3",
   "version": "3.12.4"
  }
 },
 "nbformat": 4,
 "nbformat_minor": 2
}
