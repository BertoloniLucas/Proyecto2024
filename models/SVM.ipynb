{
 "cells": [
  {
   "cell_type": "code",
   "execution_count": 1,
   "metadata": {},
   "outputs": [
    {
     "name": "stdout",
     "output_type": "stream",
     "text": [
      "Index(['Gender', 'Age', 'Schooling', 'Breastfeeding', 'Varicella',\n",
      "       'Initial_Symptom', 'Mono_or_Polysymptomatic', 'Oligoclonal_Bands',\n",
      "       'LLSSEP', 'ULSSEP', 'VEP', 'BAEP', 'Periventricular_MRI',\n",
      "       'Cortical_MRI', 'Infratentorial_MRI', 'Spinal_Cord_MRI', 'Initial_EDSS',\n",
      "       'Final_EDSS', 'group'],\n",
      "      dtype='object')\n",
      "Gender                       0\n",
      "Age                          0\n",
      "Schooling                    1\n",
      "Breastfeeding                0\n",
      "Varicella                    0\n",
      "Initial_Symptom              1\n",
      "Mono_or_Polysymptomatic      0\n",
      "Oligoclonal_Bands            0\n",
      "LLSSEP                       0\n",
      "ULSSEP                       0\n",
      "VEP                          0\n",
      "BAEP                         0\n",
      "Periventricular_MRI          0\n",
      "Cortical_MRI                 0\n",
      "Infratentorial_MRI           0\n",
      "Spinal_Cord_MRI              0\n",
      "Initial_EDSS               148\n",
      "Final_EDSS                 148\n",
      "group                        0\n",
      "dtype: int64\n",
      "[[20  6]\n",
      " [ 8 21]]\n",
      "              precision    recall  f1-score   support\n",
      "\n",
      "           1       0.71      0.77      0.74        26\n",
      "           2       0.78      0.72      0.75        29\n",
      "\n",
      "    accuracy                           0.75        55\n",
      "   macro avg       0.75      0.75      0.75        55\n",
      "weighted avg       0.75      0.75      0.75        55\n",
      "\n"
     ]
    }
   ],
   "source": [
    "import pandas as pd\n",
    "from sklearn.model_selection import train_test_split\n",
    "from sklearn.svm import SVC\n",
    "from sklearn.metrics import classification_report, confusion_matrix\n",
    "from sklearn.impute import SimpleImputer\n",
    "\n",
    "# Cargar los datos desde el CSV, ignorando la columna de índice\n",
    "file_path = 'C:\\\\Users\\\\48242450\\\\Documents\\\\Pruebas-Proyecto\\\\conversion_predictors_of_clinically_isolated_syndrome_to_multiple_sclerosis (2).csv'\n",
    "df = pd.read_csv(file_path, index_col=0)\n",
    "\n",
    "# Verificar los nombres de las columnas\n",
    "print(df.columns)\n",
    "\n",
    "# Revisar si hay valores faltantes en el dataframe\n",
    "print(df.isna().sum())\n",
    "\n",
    "# Imputar valores faltantes (puedes elegir otros métodos de imputación si lo prefieres)\n",
    "imputer = SimpleImputer(strategy='mean')  # También puedes usar 'median', 'most_frequent', etc.\n",
    "X = df.drop(['group', 'Initial_EDSS', 'Final_EDSS'], axis=1)\n",
    "y = df['group']\n",
    "\n",
    "# Imputar valores faltantes en X\n",
    "X_imputed = imputer.fit_transform(X)\n",
    "\n",
    "# Dividir los datos en conjuntos de entrenamiento y prueba\n",
    "X_train, X_test, y_train, y_test = train_test_split(X_imputed, y, test_size=0.2, random_state=42)\n",
    "\n",
    "# Crear y entrenar el modelo SVM\n",
    "svm_model = SVC(kernel='linear')\n",
    "svm_model.fit(X_train, y_train)\n",
    "\n",
    "# Hacer predicciones\n",
    "y_pred = svm_model.predict(X_test)\n",
    "\n",
    "# Evaluar el modelo\n",
    "print(confusion_matrix(y_test, y_pred))\n",
    "print(classification_report(y_test, y_pred))\n"
   ]
  }
 ],
 "metadata": {
  "kernelspec": {
   "display_name": "Python 3",
   "language": "python",
   "name": "python3"
  },
  "language_info": {
   "codemirror_mode": {
    "name": "ipython",
    "version": 3
   },
   "file_extension": ".py",
   "mimetype": "text/x-python",
   "name": "python",
   "nbconvert_exporter": "python",
   "pygments_lexer": "ipython3",
   "version": "3.10.0"
  }
 },
 "nbformat": 4,
 "nbformat_minor": 2
}
