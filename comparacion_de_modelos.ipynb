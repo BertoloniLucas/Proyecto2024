{
 "cells": [
  {
   "cell_type": "code",
   "execution_count": null,
   "metadata": {},
   "outputs": [],
   "source": [
    "import pandas as pd\n",
    "import numpy as np\n",
    "from sklearn.model_selection import train_test_split\n",
    "from sklearn.preprocessing import StandardScaler\n",
    "from sklearn.linear_model import LogisticRegression\n",
    "from sklearn.svm import SVC\n",
    "from sklearn.ensemble import RandomForestClassifier\n",
    "from sklearn.metrics import accuracy_score, recall_score, f1_score, roc_auc_score\n",
    "import seaborn as sns\n",
    "import matplotlib.pyplot as plt\n",
    "import xgboost as xgb\n",
    "\n",
    "\n",
    "data = pd.read_csv(\"./models/data.csv\")"
   ]
  },
  {
   "cell_type": "code",
   "execution_count": null,
   "metadata": {},
   "outputs": [],
   "source": [
    "import wandb\n",
    "\n",
    "# Initialize Weights & Biases\n",
    "wandb.init(project=\"model-comparison\")"
   ]
  },
  {
   "cell_type": "code",
   "execution_count": null,
   "metadata": {},
   "outputs": [],
   "source": [
    "data = data.drop(columns=['Initial_EDSS', 'Final_EDSS', \"Unnamed: 0\"])\n",
    "data = data.dropna()\n",
    "data"
   ]
  },
  {
   "cell_type": "code",
   "execution_count": null,
   "metadata": {},
   "outputs": [],
   "source": [
    "# Separar en características (X) y etiqueta (y)\n",
    "X = data.drop(columns=['group'])\n",
    "y = data['group']\n",
    "\n",
    "seed = 42\n",
    "X_train, X_temp, y_train, y_temp = train_test_split(X, y, test_size=0.4, random_state=seed)\n",
    "X_val, X_test, y_val, y_test = train_test_split(X_temp, y_temp, test_size=0.5, random_state=seed)"
   ]
  },
  {
   "cell_type": "code",
   "execution_count": null,
   "metadata": {},
   "outputs": [],
   "source": [
    "from sklearn.preprocessing import LabelEncoder\n",
    "\n",
    "encoder = LabelEncoder()\n",
    "\n",
    "# Fit the encoder to the entire training data\n",
    "encoder.fit(y_train)\n",
    "\n",
    "# Encode the training labels\n",
    "X_train_encoded = encoder.transform(y_train)\n",
    "X_val_encoded = encoder.transform(y_val)\n",
    "X_test_encoded = encoder.transform(y_train)\n",
    "\n",
    "# Codifica la variable y_train\n",
    "y_train_encoded = encoder.fit_transform(y_train)\n",
    "y_val_encoded = encoder.transform(y_val)\n",
    "y_test_encoded = encoder.transform(y_test)\n"
   ]
  },
  {
   "cell_type": "code",
   "execution_count": null,
   "metadata": {},
   "outputs": [],
   "source": [
    "print(X_test_reshaped.shape, y_test_encoded.shape)"
   ]
  },
  {
   "cell_type": "code",
   "execution_count": null,
   "metadata": {},
   "outputs": [],
   "source": [
    "X_train_encoded_reshaped = X_train_encoded.reshape(-1, 1)\n",
    "X_val_reshaped = X_val_encoded.reshape(-1, 1) \n",
    "# X_test_reshaped = X_test_encoded.reshape(-1, 1) \n",
    "\n",
    "X_test_reshaped = X_test_encoded.reshape(-1, 1)\n",
    "y_test_reshaped = y_test_encoded.reshape(-1, 1)  \n",
    "\n",
    "\n"
   ]
  },
  {
   "cell_type": "code",
   "execution_count": null,
   "metadata": {},
   "outputs": [],
   "source": [
    "print(X_test_reshaped.shape, y_test_encoded.shape)"
   ]
  },
  {
   "cell_type": "code",
   "execution_count": null,
   "metadata": {},
   "outputs": [],
   "source": [
    "print(f\"y_test shape: {y_test.shape}\")\n",
    "print(f\"y_pred_test_xgb shape: {y_pred_test_xgb.shape}\")"
   ]
  },
  {
   "cell_type": "code",
   "execution_count": null,
   "metadata": {},
   "outputs": [],
   "source": [
    "\n",
    "\n",
    "# Escalado\n",
    "scaler = StandardScaler()\n",
    "X_train_scaled = scaler.fit_transform(X_train)\n",
    "X_val_scaled = scaler.transform(X_val)\n",
    "X_test_scaled = scaler.transform(X_test)\n",
    "\n",
    "# Definir los modelos\n",
    "models = {\n",
    "    \"Regresion logistica\": LogisticRegression(),\n",
    "    \"SVC\": SVC(probability=True),  # Para calcular las probabilidades\n",
    "    \"RandomForest\": RandomForestClassifier(),\n",
    "    # \"XGBoost\": xgb.XGBClassifier(use_label_encoder=False, eval_metric='logloss')\n",
    "}\n",
    "\n",
    "# # Entrenar el modelo XGBoost por separado (sin escalar)\n",
    "# xgb_model = xgb.XGBClassifier(use_label_encoder=True, eval_metric='logloss')\n",
    "# xgb_model.fit(X_train_encoded_reshaped, y_train_encoded)\n",
    "\n",
    "# y_pred_train_xgb = xgb_model.predict(X_train_encoded_reshaped)\n",
    "# y_pred_val_xgb = xgb_model.predict(X_val_reshaped) \n",
    "# y_pred_test_xgb = xgb_model.predict(X_test_reshaped)\n",
    "\n"
   ]
  },
  {
   "cell_type": "code",
   "execution_count": null,
   "metadata": {},
   "outputs": [],
   "source": [
    "# # Calcular métricas para XGBoost\n",
    "# auc_train_xgb = roc_auc_score(y_train, xgb_model.predict_proba(X_train_encoded_reshaped)[:, 1], multi_class='ovr')\n",
    "# recall_train_xgb = recall_score(y_train, y_pred_train_xgb, average='weighted')\n",
    "# f1_train_xgb = f1_score(y_train, y_pred_train_xgb, average='weighted')\n",
    "# accuracy_train_xgb = accuracy_score(y_train, y_pred_train_xgb)\n",
    "\n",
    "# auc_val_xgb = roc_auc_score(y_val, xgb_model.predict_proba(X_val_reshaped)[:, 1], multi_class='ovr')\n",
    "# recall_val_xgb = recall_score(y_val, y_pred_val_xgb, average='weighted')\n",
    "# f1_val_xgb = f1_score(y_val, y_pred_val_xgb, average='weighted')\n",
    "# accuracy_val_xgb = accuracy_score(y_val, y_pred_val_xgb)\n",
    "\n",
    "# auc_test_xgb = roc_auc_score(y_test, xgb_model.predict_proba(y_test_encoded)[:, 1], multi_class='ovr')\n",
    "# recall_test_xgb = recall_score(y_test, y_pred_test_xgb, average='weighted')\n",
    "# f1_test_xgb = f1_score(y_test, y_pred_test_xgb, average='weighted')\n",
    "# accuracy_test_xgb = accuracy_score(y_test, y_pred_test_xgb)\n",
    "\n",
    "# # Registrar en Weights & Biases para XGBoost\n",
    "# wandb.log({\n",
    "#     \"model\": \"XGBoost\",\n",
    "#     \"accuracy_train\": accuracy_train_xgb,\n",
    "#     \"recall_train\": recall_train_xgb,\n",
    "#     \"f1_train\": f1_train_xgb,\n",
    "#     \"auc_train\": auc_train_xgb,\n",
    "#     \"accuracy_val\": accuracy_val_xgb,\n",
    "#     \"recall_val\": recall_val_xgb,\n",
    "#     \"f1_val\": f1_val_xgb,\n",
    "#     \"auc_val\": auc_val_xgb,\n",
    "#     # \"accuracy_test\": accuracy_test_xgb,\n",
    "#     # \"recall_test\": recall_test_xgb,\n",
    "#     # \"f1_test\": f1_test_xgb,\n",
    "#     \"auc_test\": auc_test_xgb,\n",
    "# })\n",
    "# # Entrenar y evaluar cada modelo\n",
    "# results = []"
   ]
  },
  {
   "cell_type": "code",
   "execution_count": null,
   "metadata": {},
   "outputs": [],
   "source": [
    "for model_name, model in models.items():\n",
    "    if model_name == 'XGBoost':\n",
    "        continue \n",
    "    model.fit(X_train_scaled, y_train)\n",
    "    y_pred_train = model.predict(X_train_scaled)\n",
    "    y_pred_val = model.predict(X_val_scaled)\n",
    "    y_pred_test = model.predict(X_test_scaled)\n",
    "\n",
    "\n",
    "    accuracy_train = accuracy_score(y_train, y_pred_train)\n",
    "    recall_train = recall_score(y_train, y_pred_train, average='weighted')\n",
    "    f1_train = f1_score(y_train, y_pred_train, average='weighted')\n",
    "    auc_train = roc_auc_score(y_train, model.predict_proba(X_train_scaled)[:, 1], multi_class='ovr')\n",
    "\n",
    "    accuracy_val = accuracy_score(y_val, y_pred_val)\n",
    "    recall_val = recall_score(y_val, y_pred_val, average='weighted')\n",
    "    f1_val = f1_score(y_val, y_pred_val, average='weighted')\n",
    "    auc_val = roc_auc_score(y_val, model.predict_proba(X_val_scaled)[:, 1], multi_class='ovr')\n",
    "\n",
    "    accuracy_test = accuracy_score(y_test, y_pred_test)\n",
    "    recall_test = recall_score(y_test, y_pred_test, average='weighted')\n",
    "    f1_test = f1_score(y_test, y_pred_test, average='weighted')\n",
    "    auc_test = roc_auc_score(y_test, model.predict_proba(X_test_scaled)[:, 1], multi_class='ovr')\n",
    "\n",
    "\n",
    "\n",
    "    # Registrar en Weights & Biases\n",
    "    wandb.log({\n",
    "        \"model\": model_name,\n",
    "        \"accuracy_train\": accuracy_train,\n",
    "        \"recall_train\": recall_train,\n",
    "        \"f1_train\": f1_train,\n",
    "        \"auc_train\": auc_train,\n",
    "        \"accuracy_val\": accuracy_val,\n",
    "        \"recall_val\": recall_val,\n",
    "        \"f1_val\": f1_val,\n",
    "        \"auc_val\": auc_val,\n",
    "        \"accuracy_test\": accuracy_test,\n",
    "        \"recall_test\": recall_test,\n",
    "        \"f1_test\": f1_test,\n",
    "        \"auc_test\": auc_test,\n",
    "    })\n",
    "\n",
    "    # Guardar los resultados\n",
    "    results.append({\n",
    "        \"model\": model_name,\n",
    "        \"metric\": \"accuracy\",\n",
    "        \"value\": accuracy_test\n",
    "    })\n",
    "    results.append({\n",
    "        \"model\": model_name,\n",
    "        \"metric\": \"recall\",\n",
    "        \"value\": recall_test\n",
    "    })\n",
    "    results.append({\n",
    "        \"model\": model_name,\n",
    "        \"metric\": \"f1-score\",\n",
    "        \"value\": f1_test\n",
    "    })\n",
    "    results.append({\n",
    "        \"model\": model_name,\n",
    "        \"metric\": \"auc\",\n",
    "        \"value\": auc_test\n",
    "    })\n",
    "    # # Agregar resultados de XGBoost al DataFrame\n",
    "    # results.append({\n",
    "    #     \"model\": \"XGBoost\",\n",
    "    #     \"metric\": \"accuracy\",\n",
    "    #     # \"value\": accuracy_test_xgb\n",
    "    #     # recall_train_xgb\n",
    "# })\n",
    "\n",
    "# Convertir los resultados a un DataFrame\n",
    "results_df = pd.DataFrame(results)\n",
    "\n",
    "# Visualización con Seaborn\n",
    "sns.barplot(x='metric', y='value', hue='model', data=results_df)\n",
    "plt.title('Comparación de Métricas de los modelos')\n",
    "plt.show()"
   ]
  },
  {
   "cell_type": "code",
   "execution_count": null,
   "metadata": {},
   "outputs": [],
   "source": [
    "results_df"
   ]
  },
  {
   "cell_type": "code",
   "execution_count": null,
   "metadata": {},
   "outputs": [],
   "source": [
    "# wandb.finish()"
   ]
  }
 ],
 "metadata": {
  "kernelspec": {
   "display_name": "Python 3",
   "language": "python",
   "name": "python3"
  },
  "language_info": {
   "codemirror_mode": {
    "name": "ipython",
    "version": 3
   },
   "file_extension": ".py",
   "mimetype": "text/x-python",
   "name": "python",
   "nbconvert_exporter": "python",
   "pygments_lexer": "ipython3",
   "version": "3.12.4"
  }
 },
 "nbformat": 4,
 "nbformat_minor": 2
}
